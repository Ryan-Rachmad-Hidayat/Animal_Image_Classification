{
  "nbformat": 4,
  "nbformat_minor": 0,
  "metadata": {
    "colab": {
      "provenance": []
    },
    "kernelspec": {
      "name": "python3",
      "display_name": "Python 3"
    },
    "language_info": {
      "name": "python"
    }
  },
  "cells": [
    {
      "cell_type": "markdown",
      "metadata": {
        "id": "H9wADwK78DCz"
      },
      "source": [
        "# Proyek Klasifikasi Gambar: [Cards Image Dataset]\n",
        "- **Nama:** [Ryan Rachmad Hidayat]\n",
        "- **Email:** [ryan.rachmad.works@gmail.com]\n",
        "- **ID Dicoding:** [ryan_rachmad_hidayat]"
      ]
    },
    {
      "cell_type": "markdown",
      "metadata": {
        "id": "H-z4QGlO8DC1"
      },
      "source": [
        "## Import Semua Packages/Library yang Digunakan"
      ]
    },
    {
      "cell_type": "code",
      "source": [
        "import subprocess\n",
        "import sys\n",
        "\n",
        "def install_package(package):\n",
        "    try:\n",
        "        subprocess.check_call(\n",
        "            [sys.executable, \"-m\", \"pip\", \"install\", package],\n",
        "            stdout=subprocess.DEVNULL,  # Nonaktifkan output\n",
        "            stderr=subprocess.DEVNULL\n",
        "        )\n",
        "        print(\"Done\")\n",
        "    except subprocess.CalledProcessError:\n",
        "        print(\"Gagal install:\", package)\n",
        "\n",
        "# Install googletrans versi yang stabil\n",
        "install_package(\"tensorflowjs\")"
      ],
      "metadata": {
        "colab": {
          "base_uri": "https://localhost:8080/"
        },
        "id": "pnIPV25fzS9U",
        "outputId": "6c0401c4-d2b3-4792-848b-ee898579e455"
      },
      "execution_count": 1,
      "outputs": [
        {
          "output_type": "stream",
          "name": "stdout",
          "text": [
            "Done\n"
          ]
        }
      ]
    },
    {
      "cell_type": "code",
      "execution_count": 2,
      "metadata": {
        "id": "FVYwaObI8DC1",
        "colab": {
          "base_uri": "https://localhost:8080/",
          "height": 200
        },
        "outputId": "06555494-e6ad-41d9-a86a-b6dbe3b7c726"
      },
      "outputs": [
        {
          "output_type": "display_data",
          "data": {
            "text/plain": [
              "<IPython.core.display.HTML object>"
            ],
            "text/html": [
              "\n",
              "<p style=\"margin:0px;\">🌲 Try <a href=\"https://ydf.readthedocs.io/en/latest/\" target=\"_blank\">YDF</a>, the successor of\n",
              "    <a href=\"https://www.tensorflow.org/decision_forests\" target=\"_blank\">TensorFlow\n",
              "        Decision Forests</a> using the same algorithms but with more features and faster\n",
              "    training!\n",
              "</p>\n",
              "<div style=\"display: flex; flex-wrap: wrap; margin:5px;max-width: 880px;\">\n",
              "    <div style=\"flex: 1; border-radius: 10px; background-color: F0F0F0; padding: 5px;\">\n",
              "        <p\n",
              "            style=\"font-weight: bold; margin:0px;text-align: center;border-bottom: 1px solid #C0C0C0;margin-bottom: 4px;\">\n",
              "            Old code</p>\n",
              "        <pre style=\"overflow-wrap: anywhere; overflow: auto; margin:0px;font-size: 9pt;\">\n",
              "import tensorflow_decision_forests as tfdf\n",
              "\n",
              "tf_ds = tfdf.keras.pd_dataframe_to_tf_dataset(ds, label=\"l\")\n",
              "model = tfdf.keras.RandomForestModel(label=\"l\")\n",
              "model.fit(tf_ds)\n",
              "</pre>\n",
              "    </div>\n",
              "    <div style=\"width: 5px;\"></div>\n",
              "    <div style=\"flex: 1; border-radius: 10px; background-color: F0F0F0; padding: 5px;\">\n",
              "        <p\n",
              "            style=\"font-weight: bold; margin:0px;text-align: center;border-bottom: 1px solid #C0C0C0;margin-bottom: 4px;\">\n",
              "            New code</p>\n",
              "        <pre style=\"overflow-wrap: anywhere; overflow: auto; margin:0px;font-size: 9pt;\">\n",
              "import ydf\n",
              "\n",
              "model = ydf.RandomForestLearner(label=\"l\").train(ds)\n",
              "</pre>\n",
              "    </div>\n",
              "</div>\n",
              "<p style=\"margin:0px;font-size: 9pt;\">(Learn more in the <a\n",
              "        href=\"https://ydf.readthedocs.io/en/latest/tutorial/migrating_to_ydf/\" target=\"_blank\">migration\n",
              "        guide</a>)</p>\n"
            ]
          },
          "metadata": {}
        },
        {
          "output_type": "stream",
          "name": "stdout",
          "text": [
            "4.22.0\n",
            "2.18.0\n"
          ]
        }
      ],
      "source": [
        "import kagglehub\n",
        "import keras\n",
        "import tqdm\n",
        "import numpy as np\n",
        "import pandas as pd\n",
        "import os\n",
        "import time\n",
        "import matplotlib.pyplot as plt\n",
        "import cv2\n",
        "import seaborn as sns\n",
        "sns.set_style('darkgrid')\n",
        "import shutil\n",
        "from sklearn.metrics import confusion_matrix, classification_report\n",
        "from sklearn.model_selection import train_test_split\n",
        "import tensorflow as tf\n",
        "from tensorflow import keras\n",
        "from tensorflow.keras import regularizers\n",
        "from tensorflow.keras.preprocessing.image import ImageDataGenerator\n",
        "from collections import Counter\n",
        "from tensorflow.keras.layers import Dense, Activation,Dropout,Conv2D, MaxPooling2D,BatchNormalization, Input, Flatten, Concatenate\n",
        "from tensorflow.keras.optimizers import Adam, Adamax\n",
        "from tensorflow.keras.metrics import categorical_crossentropy\n",
        "from tensorflow.keras import regularizers\n",
        "from tensorflow.keras.models import Model, Sequential\n",
        "import tensorflowjs as tfjs\n",
        "from sklearn.utils import shuffle\n",
        "from keras.utils import to_categorical\n",
        "from tensorflow.keras.models import Model\n",
        "from tensorflow.keras.applications import EfficientNetB3\n",
        "\n",
        "import logging\n",
        "logging.getLogger(\"tensorflow\").setLevel(logging.ERROR)\n",
        "import warnings\n",
        "pd.set_option('display.max_colwidth', None)\n",
        "pd.options.display.max_rows = 5\n",
        "warnings.simplefilter(\"ignore\")\n",
        "\n",
        "print(tfjs.__version__) # Cek versi dari Tensorflow.js\n",
        "print(tf.__version__) # Cek versi dari Tensorflow"
      ]
    },
    {
      "cell_type": "markdown",
      "source": [
        "## Data Preparation"
      ],
      "metadata": {
        "id": "TK4DvqfbYrN8"
      }
    },
    {
      "cell_type": "markdown",
      "metadata": {
        "id": "HHekw29KX4XQ"
      },
      "source": [
        "### Data Loading"
      ]
    },
    {
      "cell_type": "code",
      "execution_count": 3,
      "metadata": {
        "id": "wIcv1F9fX4XQ",
        "colab": {
          "base_uri": "https://localhost:8080/"
        },
        "outputId": "093906cc-a25d-4e55-a1f2-0ec13463557c"
      },
      "outputs": [
        {
          "output_type": "stream",
          "name": "stdout",
          "text": [
            "Path to dataset files: /kaggle/input/cards-image-datasetclassification\n"
          ]
        }
      ],
      "source": [
        "# Download latest version\n",
        "path = kagglehub.dataset_download(\"gpiosenka/cards-image-datasetclassification\")\n",
        "\n",
        "print(\"Path to dataset files:\", path)"
      ]
    },
    {
      "cell_type": "code",
      "source": [
        "trainDir = '/kaggle/input/cards-image-datasetclassification/train'\n",
        "testDir = '/kaggle/input/cards-image-datasetclassification/test'\n",
        "valDir = '/kaggle/input/cards-image-datasetclassification/valid'\n",
        "trainFolders = os.listdir(trainDir)\n",
        "testFolders = os.listdir(testDir)\n",
        "valFolders = os.listdir(valDir)"
      ],
      "metadata": {
        "id": "N40ENxNYxwuQ"
      },
      "execution_count": 4,
      "outputs": []
    },
    {
      "cell_type": "code",
      "source": [
        "def load_images(folders) :\n",
        "  folderPics = []\n",
        "  y = []\n",
        "  for fol in tqdm.tqdm(folders) :\n",
        "    for image in os.listdir(os.path.join(trainDir,fol)) :\n",
        "      imgPath = os.path.join(trainDir,fol,image)\n",
        "      img = cv2.imread(imgPath)\n",
        "      imgRGB = cv2.cvtColor(img , cv2.COLOR_BGR2RGB)\n",
        "      imgRGB = cv2.resize(imgRGB, (70,70))\n",
        "      folderPics.append(imgRGB)\n",
        "      y.append(fol)\n",
        "  return folderPics , y"
      ],
      "metadata": {
        "id": "yP1803rIyA9y"
      },
      "execution_count": 5,
      "outputs": []
    },
    {
      "cell_type": "code",
      "source": [
        "df = pd.read_csv('/kaggle/input/cards-image-datasetclassification/cards.csv')\n",
        "df"
      ],
      "metadata": {
        "colab": {
          "base_uri": "https://localhost:8080/",
          "height": 235
        },
        "id": "8Na2-X1vyXKx",
        "outputId": "01e4d217-2a29-4a0b-d8b6-5ec6cac61eed"
      },
      "execution_count": 6,
      "outputs": [
        {
          "output_type": "execute_result",
          "data": {
            "text/plain": [
              "      class index                   filepaths         labels card type  \\\n",
              "0               0  train/ace of clubs/001.jpg   ace of clubs       ace   \n",
              "1               0  train/ace of clubs/002.jpg   ace of clubs       ace   \n",
              "...           ...                         ...            ...       ...   \n",
              "8153           52   valid/two of spades/4.jpg  two of spades       two   \n",
              "8154           52   valid/two of spades/5.jpg  two of spades       two   \n",
              "\n",
              "     data set  \n",
              "0       train  \n",
              "1       train  \n",
              "...       ...  \n",
              "8153    valid  \n",
              "8154    valid  \n",
              "\n",
              "[8155 rows x 5 columns]"
            ],
            "text/html": [
              "\n",
              "  <div id=\"df-07dcc42b-f2ca-4207-b839-7c4232c33f03\" class=\"colab-df-container\">\n",
              "    <div>\n",
              "<style scoped>\n",
              "    .dataframe tbody tr th:only-of-type {\n",
              "        vertical-align: middle;\n",
              "    }\n",
              "\n",
              "    .dataframe tbody tr th {\n",
              "        vertical-align: top;\n",
              "    }\n",
              "\n",
              "    .dataframe thead th {\n",
              "        text-align: right;\n",
              "    }\n",
              "</style>\n",
              "<table border=\"1\" class=\"dataframe\">\n",
              "  <thead>\n",
              "    <tr style=\"text-align: right;\">\n",
              "      <th></th>\n",
              "      <th>class index</th>\n",
              "      <th>filepaths</th>\n",
              "      <th>labels</th>\n",
              "      <th>card type</th>\n",
              "      <th>data set</th>\n",
              "    </tr>\n",
              "  </thead>\n",
              "  <tbody>\n",
              "    <tr>\n",
              "      <th>0</th>\n",
              "      <td>0</td>\n",
              "      <td>train/ace of clubs/001.jpg</td>\n",
              "      <td>ace of clubs</td>\n",
              "      <td>ace</td>\n",
              "      <td>train</td>\n",
              "    </tr>\n",
              "    <tr>\n",
              "      <th>1</th>\n",
              "      <td>0</td>\n",
              "      <td>train/ace of clubs/002.jpg</td>\n",
              "      <td>ace of clubs</td>\n",
              "      <td>ace</td>\n",
              "      <td>train</td>\n",
              "    </tr>\n",
              "    <tr>\n",
              "      <th>...</th>\n",
              "      <td>...</td>\n",
              "      <td>...</td>\n",
              "      <td>...</td>\n",
              "      <td>...</td>\n",
              "      <td>...</td>\n",
              "    </tr>\n",
              "    <tr>\n",
              "      <th>8153</th>\n",
              "      <td>52</td>\n",
              "      <td>valid/two of spades/4.jpg</td>\n",
              "      <td>two of spades</td>\n",
              "      <td>two</td>\n",
              "      <td>valid</td>\n",
              "    </tr>\n",
              "    <tr>\n",
              "      <th>8154</th>\n",
              "      <td>52</td>\n",
              "      <td>valid/two of spades/5.jpg</td>\n",
              "      <td>two of spades</td>\n",
              "      <td>two</td>\n",
              "      <td>valid</td>\n",
              "    </tr>\n",
              "  </tbody>\n",
              "</table>\n",
              "<p>8155 rows × 5 columns</p>\n",
              "</div>\n",
              "    <div class=\"colab-df-buttons\">\n",
              "\n",
              "  <div class=\"colab-df-container\">\n",
              "    <button class=\"colab-df-convert\" onclick=\"convertToInteractive('df-07dcc42b-f2ca-4207-b839-7c4232c33f03')\"\n",
              "            title=\"Convert this dataframe to an interactive table.\"\n",
              "            style=\"display:none;\">\n",
              "\n",
              "  <svg xmlns=\"http://www.w3.org/2000/svg\" height=\"24px\" viewBox=\"0 -960 960 960\">\n",
              "    <path d=\"M120-120v-720h720v720H120Zm60-500h600v-160H180v160Zm220 220h160v-160H400v160Zm0 220h160v-160H400v160ZM180-400h160v-160H180v160Zm440 0h160v-160H620v160ZM180-180h160v-160H180v160Zm440 0h160v-160H620v160Z\"/>\n",
              "  </svg>\n",
              "    </button>\n",
              "\n",
              "  <style>\n",
              "    .colab-df-container {\n",
              "      display:flex;\n",
              "      gap: 12px;\n",
              "    }\n",
              "\n",
              "    .colab-df-convert {\n",
              "      background-color: #E8F0FE;\n",
              "      border: none;\n",
              "      border-radius: 50%;\n",
              "      cursor: pointer;\n",
              "      display: none;\n",
              "      fill: #1967D2;\n",
              "      height: 32px;\n",
              "      padding: 0 0 0 0;\n",
              "      width: 32px;\n",
              "    }\n",
              "\n",
              "    .colab-df-convert:hover {\n",
              "      background-color: #E2EBFA;\n",
              "      box-shadow: 0px 1px 2px rgba(60, 64, 67, 0.3), 0px 1px 3px 1px rgba(60, 64, 67, 0.15);\n",
              "      fill: #174EA6;\n",
              "    }\n",
              "\n",
              "    .colab-df-buttons div {\n",
              "      margin-bottom: 4px;\n",
              "    }\n",
              "\n",
              "    [theme=dark] .colab-df-convert {\n",
              "      background-color: #3B4455;\n",
              "      fill: #D2E3FC;\n",
              "    }\n",
              "\n",
              "    [theme=dark] .colab-df-convert:hover {\n",
              "      background-color: #434B5C;\n",
              "      box-shadow: 0px 1px 3px 1px rgba(0, 0, 0, 0.15);\n",
              "      filter: drop-shadow(0px 1px 2px rgba(0, 0, 0, 0.3));\n",
              "      fill: #FFFFFF;\n",
              "    }\n",
              "  </style>\n",
              "\n",
              "    <script>\n",
              "      const buttonEl =\n",
              "        document.querySelector('#df-07dcc42b-f2ca-4207-b839-7c4232c33f03 button.colab-df-convert');\n",
              "      buttonEl.style.display =\n",
              "        google.colab.kernel.accessAllowed ? 'block' : 'none';\n",
              "\n",
              "      async function convertToInteractive(key) {\n",
              "        const element = document.querySelector('#df-07dcc42b-f2ca-4207-b839-7c4232c33f03');\n",
              "        const dataTable =\n",
              "          await google.colab.kernel.invokeFunction('convertToInteractive',\n",
              "                                                    [key], {});\n",
              "        if (!dataTable) return;\n",
              "\n",
              "        const docLinkHtml = 'Like what you see? Visit the ' +\n",
              "          '<a target=\"_blank\" href=https://colab.research.google.com/notebooks/data_table.ipynb>data table notebook</a>'\n",
              "          + ' to learn more about interactive tables.';\n",
              "        element.innerHTML = '';\n",
              "        dataTable['output_type'] = 'display_data';\n",
              "        await google.colab.output.renderOutput(dataTable, element);\n",
              "        const docLink = document.createElement('div');\n",
              "        docLink.innerHTML = docLinkHtml;\n",
              "        element.appendChild(docLink);\n",
              "      }\n",
              "    </script>\n",
              "  </div>\n",
              "\n",
              "\n",
              "    <div id=\"df-b21907ac-d9e6-4a6f-be4f-0c040cd299f5\">\n",
              "      <button class=\"colab-df-quickchart\" onclick=\"quickchart('df-b21907ac-d9e6-4a6f-be4f-0c040cd299f5')\"\n",
              "                title=\"Suggest charts\"\n",
              "                style=\"display:none;\">\n",
              "\n",
              "<svg xmlns=\"http://www.w3.org/2000/svg\" height=\"24px\"viewBox=\"0 0 24 24\"\n",
              "     width=\"24px\">\n",
              "    <g>\n",
              "        <path d=\"M19 3H5c-1.1 0-2 .9-2 2v14c0 1.1.9 2 2 2h14c1.1 0 2-.9 2-2V5c0-1.1-.9-2-2-2zM9 17H7v-7h2v7zm4 0h-2V7h2v10zm4 0h-2v-4h2v4z\"/>\n",
              "    </g>\n",
              "</svg>\n",
              "      </button>\n",
              "\n",
              "<style>\n",
              "  .colab-df-quickchart {\n",
              "      --bg-color: #E8F0FE;\n",
              "      --fill-color: #1967D2;\n",
              "      --hover-bg-color: #E2EBFA;\n",
              "      --hover-fill-color: #174EA6;\n",
              "      --disabled-fill-color: #AAA;\n",
              "      --disabled-bg-color: #DDD;\n",
              "  }\n",
              "\n",
              "  [theme=dark] .colab-df-quickchart {\n",
              "      --bg-color: #3B4455;\n",
              "      --fill-color: #D2E3FC;\n",
              "      --hover-bg-color: #434B5C;\n",
              "      --hover-fill-color: #FFFFFF;\n",
              "      --disabled-bg-color: #3B4455;\n",
              "      --disabled-fill-color: #666;\n",
              "  }\n",
              "\n",
              "  .colab-df-quickchart {\n",
              "    background-color: var(--bg-color);\n",
              "    border: none;\n",
              "    border-radius: 50%;\n",
              "    cursor: pointer;\n",
              "    display: none;\n",
              "    fill: var(--fill-color);\n",
              "    height: 32px;\n",
              "    padding: 0;\n",
              "    width: 32px;\n",
              "  }\n",
              "\n",
              "  .colab-df-quickchart:hover {\n",
              "    background-color: var(--hover-bg-color);\n",
              "    box-shadow: 0 1px 2px rgba(60, 64, 67, 0.3), 0 1px 3px 1px rgba(60, 64, 67, 0.15);\n",
              "    fill: var(--button-hover-fill-color);\n",
              "  }\n",
              "\n",
              "  .colab-df-quickchart-complete:disabled,\n",
              "  .colab-df-quickchart-complete:disabled:hover {\n",
              "    background-color: var(--disabled-bg-color);\n",
              "    fill: var(--disabled-fill-color);\n",
              "    box-shadow: none;\n",
              "  }\n",
              "\n",
              "  .colab-df-spinner {\n",
              "    border: 2px solid var(--fill-color);\n",
              "    border-color: transparent;\n",
              "    border-bottom-color: var(--fill-color);\n",
              "    animation:\n",
              "      spin 1s steps(1) infinite;\n",
              "  }\n",
              "\n",
              "  @keyframes spin {\n",
              "    0% {\n",
              "      border-color: transparent;\n",
              "      border-bottom-color: var(--fill-color);\n",
              "      border-left-color: var(--fill-color);\n",
              "    }\n",
              "    20% {\n",
              "      border-color: transparent;\n",
              "      border-left-color: var(--fill-color);\n",
              "      border-top-color: var(--fill-color);\n",
              "    }\n",
              "    30% {\n",
              "      border-color: transparent;\n",
              "      border-left-color: var(--fill-color);\n",
              "      border-top-color: var(--fill-color);\n",
              "      border-right-color: var(--fill-color);\n",
              "    }\n",
              "    40% {\n",
              "      border-color: transparent;\n",
              "      border-right-color: var(--fill-color);\n",
              "      border-top-color: var(--fill-color);\n",
              "    }\n",
              "    60% {\n",
              "      border-color: transparent;\n",
              "      border-right-color: var(--fill-color);\n",
              "    }\n",
              "    80% {\n",
              "      border-color: transparent;\n",
              "      border-right-color: var(--fill-color);\n",
              "      border-bottom-color: var(--fill-color);\n",
              "    }\n",
              "    90% {\n",
              "      border-color: transparent;\n",
              "      border-bottom-color: var(--fill-color);\n",
              "    }\n",
              "  }\n",
              "</style>\n",
              "\n",
              "      <script>\n",
              "        async function quickchart(key) {\n",
              "          const quickchartButtonEl =\n",
              "            document.querySelector('#' + key + ' button');\n",
              "          quickchartButtonEl.disabled = true;  // To prevent multiple clicks.\n",
              "          quickchartButtonEl.classList.add('colab-df-spinner');\n",
              "          try {\n",
              "            const charts = await google.colab.kernel.invokeFunction(\n",
              "                'suggestCharts', [key], {});\n",
              "          } catch (error) {\n",
              "            console.error('Error during call to suggestCharts:', error);\n",
              "          }\n",
              "          quickchartButtonEl.classList.remove('colab-df-spinner');\n",
              "          quickchartButtonEl.classList.add('colab-df-quickchart-complete');\n",
              "        }\n",
              "        (() => {\n",
              "          let quickchartButtonEl =\n",
              "            document.querySelector('#df-b21907ac-d9e6-4a6f-be4f-0c040cd299f5 button');\n",
              "          quickchartButtonEl.style.display =\n",
              "            google.colab.kernel.accessAllowed ? 'block' : 'none';\n",
              "        })();\n",
              "      </script>\n",
              "    </div>\n",
              "\n",
              "  <div id=\"id_5667d2a7-e0b3-4c93-abca-41f9ec57c014\">\n",
              "    <style>\n",
              "      .colab-df-generate {\n",
              "        background-color: #E8F0FE;\n",
              "        border: none;\n",
              "        border-radius: 50%;\n",
              "        cursor: pointer;\n",
              "        display: none;\n",
              "        fill: #1967D2;\n",
              "        height: 32px;\n",
              "        padding: 0 0 0 0;\n",
              "        width: 32px;\n",
              "      }\n",
              "\n",
              "      .colab-df-generate:hover {\n",
              "        background-color: #E2EBFA;\n",
              "        box-shadow: 0px 1px 2px rgba(60, 64, 67, 0.3), 0px 1px 3px 1px rgba(60, 64, 67, 0.15);\n",
              "        fill: #174EA6;\n",
              "      }\n",
              "\n",
              "      [theme=dark] .colab-df-generate {\n",
              "        background-color: #3B4455;\n",
              "        fill: #D2E3FC;\n",
              "      }\n",
              "\n",
              "      [theme=dark] .colab-df-generate:hover {\n",
              "        background-color: #434B5C;\n",
              "        box-shadow: 0px 1px 3px 1px rgba(0, 0, 0, 0.15);\n",
              "        filter: drop-shadow(0px 1px 2px rgba(0, 0, 0, 0.3));\n",
              "        fill: #FFFFFF;\n",
              "      }\n",
              "    </style>\n",
              "    <button class=\"colab-df-generate\" onclick=\"generateWithVariable('df')\"\n",
              "            title=\"Generate code using this dataframe.\"\n",
              "            style=\"display:none;\">\n",
              "\n",
              "  <svg xmlns=\"http://www.w3.org/2000/svg\" height=\"24px\"viewBox=\"0 0 24 24\"\n",
              "       width=\"24px\">\n",
              "    <path d=\"M7,19H8.4L18.45,9,17,7.55,7,17.6ZM5,21V16.75L18.45,3.32a2,2,0,0,1,2.83,0l1.4,1.43a1.91,1.91,0,0,1,.58,1.4,1.91,1.91,0,0,1-.58,1.4L9.25,21ZM18.45,9,17,7.55Zm-12,3A5.31,5.31,0,0,0,4.9,8.1,5.31,5.31,0,0,0,1,6.5,5.31,5.31,0,0,0,4.9,4.9,5.31,5.31,0,0,0,6.5,1,5.31,5.31,0,0,0,8.1,4.9,5.31,5.31,0,0,0,12,6.5,5.46,5.46,0,0,0,6.5,12Z\"/>\n",
              "  </svg>\n",
              "    </button>\n",
              "    <script>\n",
              "      (() => {\n",
              "      const buttonEl =\n",
              "        document.querySelector('#id_5667d2a7-e0b3-4c93-abca-41f9ec57c014 button.colab-df-generate');\n",
              "      buttonEl.style.display =\n",
              "        google.colab.kernel.accessAllowed ? 'block' : 'none';\n",
              "\n",
              "      buttonEl.onclick = () => {\n",
              "        google.colab.notebook.generateWithVariable('df');\n",
              "      }\n",
              "      })();\n",
              "    </script>\n",
              "  </div>\n",
              "\n",
              "    </div>\n",
              "  </div>\n"
            ],
            "application/vnd.google.colaboratory.intrinsic+json": {
              "type": "dataframe",
              "variable_name": "df",
              "summary": "{\n  \"name\": \"df\",\n  \"rows\": 8155,\n  \"fields\": [\n    {\n      \"column\": \"class index\",\n      \"properties\": {\n        \"dtype\": \"number\",\n        \"std\": 15,\n        \"min\": 0,\n        \"max\": 52,\n        \"num_unique_values\": 53,\n        \"samples\": [\n          19,\n          41,\n          47\n        ],\n        \"semantic_type\": \"\",\n        \"description\": \"\"\n      }\n    },\n    {\n      \"column\": \"filepaths\",\n      \"properties\": {\n        \"dtype\": \"string\",\n        \"num_unique_values\": 8155,\n        \"samples\": [\n          \"train/queen of clubs/145.jpg\",\n          \"train/five of clubs/018.jpg\",\n          \"train/two of clubs/077.jpg\"\n        ],\n        \"semantic_type\": \"\",\n        \"description\": \"\"\n      }\n    },\n    {\n      \"column\": \"labels\",\n      \"properties\": {\n        \"dtype\": \"category\",\n        \"num_unique_values\": 53,\n        \"samples\": [\n          \"jack of spades\",\n          \"ten of clubs\",\n          \"three of hearts\"\n        ],\n        \"semantic_type\": \"\",\n        \"description\": \"\"\n      }\n    },\n    {\n      \"column\": \"card type\",\n      \"properties\": {\n        \"dtype\": \"category\",\n        \"num_unique_values\": 14,\n        \"samples\": [\n          \"seven\",\n          \"ten\",\n          \"ace\"\n        ],\n        \"semantic_type\": \"\",\n        \"description\": \"\"\n      }\n    },\n    {\n      \"column\": \"data set\",\n      \"properties\": {\n        \"dtype\": \"category\",\n        \"num_unique_values\": 3,\n        \"samples\": [\n          \"train\",\n          \"test\",\n          \"valid\"\n        ],\n        \"semantic_type\": \"\",\n        \"description\": \"\"\n      }\n    }\n  ]\n}"
            }
          },
          "metadata": {},
          "execution_count": 6
        }
      ]
    },
    {
      "cell_type": "markdown",
      "metadata": {
        "id": "bFgLyQPHX98s"
      },
      "source": [
        "### Data Preprocessing"
      ]
    },
    {
      "cell_type": "markdown",
      "source": [
        "#### Split Dataset"
      ],
      "metadata": {
        "id": "9ICO2-E0YxzD"
      }
    },
    {
      "cell_type": "code",
      "execution_count": 7,
      "metadata": {
        "id": "8HJokQbxX98s",
        "colab": {
          "base_uri": "https://localhost:8080/"
        },
        "outputId": "23db0fba-b615-48c4-9b58-1c92e99d4346"
      },
      "outputs": [
        {
          "output_type": "stream",
          "name": "stderr",
          "text": [
            "100%|██████████| 53/53 [00:17<00:00,  2.96it/s]\n",
            "100%|██████████| 53/53 [00:13<00:00,  3.97it/s]\n",
            "100%|██████████| 53/53 [00:12<00:00,  4.18it/s]\n"
          ]
        }
      ],
      "source": [
        "x , y = load_images(trainFolders)\n",
        "xtest , ytest = load_images(testFolders)\n",
        "xval , yval = load_images(valFolders)\n",
        "\n",
        "x_Shuffled , y_Shuffled = shuffle(x,y,random_state = 123)\n",
        "xtest_Shuffled , ytest_Shuffled = shuffle(x,y,random_state = 123)\n",
        "xval_Shuffled , yval_Shuffled = shuffle(x,y,random_state = 123)\n",
        "\n",
        "x_train = np.array(x_Shuffled)\n",
        "x_test = np.array(xtest_Shuffled)\n",
        "x_val = np.array(xval_Shuffled)\n",
        "\n",
        "x_train = x_train.astype('float32') / 255.0\n",
        "x_val = x_val.astype('float32') / 255.0\n",
        "x_test = x_test.astype('float32') / 255.0\n",
        "\n",
        "x_train = x_train.reshape(-1,70,70,3)\n",
        "x_test = x_test.reshape(-1,70,70,3)\n",
        "x_val = x_val.reshape(-1,70,70,3)\n",
        "\n",
        "cats = df.labels.value_counts().index\n",
        "categories = {}\n",
        "for i,c in enumerate(cats) :\n",
        "  categories[c]=i\n",
        "\n",
        "for i in range(len(y_Shuffled)) :\n",
        "  y_Shuffled[i] = categories[y_Shuffled[i]]\n",
        "\n",
        "for i in range(len(ytest_Shuffled)) :\n",
        "  ytest_Shuffled[i] = categories[ytest_Shuffled[i]]\n",
        "\n",
        "for i in range(len(yval_Shuffled)) :\n",
        "  yval_Shuffled[i] = categories[yval_Shuffled[i]]\n",
        "\n",
        "y_test = np.array(ytest_Shuffled)\n",
        "y_val = np.array(yval_Shuffled)\n",
        "\n",
        "y_train = to_categorical(y_Shuffled)\n",
        "y_test = to_categorical(y_test)\n",
        "y_val = to_categorical(y_val)"
      ]
    },
    {
      "cell_type": "markdown",
      "metadata": {
        "id": "nc-Ph-oIYAUU"
      },
      "source": [
        "## Modelling"
      ]
    },
    {
      "cell_type": "code",
      "execution_count": 8,
      "metadata": {
        "id": "UTwK0t8XYAUU"
      },
      "outputs": [],
      "source": [
        "class myCallback(tf.keras.callbacks.Callback):\n",
        "    def on_epoch_end(self, epoch, logs={}):\n",
        "        if logs.get('accuracy') is not None and logs.get('val_accuracy') is not None:\n",
        "            if logs['accuracy'] > 0.95 and logs['val_accuracy'] > 0.95:\n",
        "                print(\"\\nReached 95% training accuracy and 95% validation accuracy, so cancelling training!\")\n",
        "                self.model.stop_training = True\n",
        "\n",
        "callbacks = myCallback()"
      ]
    },
    {
      "cell_type": "code",
      "source": [
        "model = Sequential([\n",
        "    Conv2D(32 , (3,3) , activation='relu' , input_shape=(70,70,3)),\n",
        "    MaxPooling2D((2,2)),\n",
        "    Conv2D(32 , (3,3) , activation='relu' ),\n",
        "    MaxPooling2D((2,2)),\n",
        "    Conv2D(32 , (3,3) , activation='relu' ),\n",
        "    MaxPooling2D((2,2)),\n",
        "    Flatten(),\n",
        "    Dense(128 , activation = 'relu'),\n",
        "    Dense(64 , activation = 'relu'),\n",
        "    Dense(53 , activation = 'softmax')\n",
        "])\n",
        "\n",
        "model.compile(optimizer='adam' , loss = 'categorical_crossentropy' , metrics=['accuracy'])"
      ],
      "metadata": {
        "id": "FdcDFSrq170u"
      },
      "execution_count": 9,
      "outputs": []
    },
    {
      "cell_type": "code",
      "source": [
        "from tensorflow.keras.callbacks import ModelCheckpoint\n",
        "\n",
        "checkpoint = ModelCheckpoint(\"best_model_acc.weights.h5\", monitor='accuracy', verbose=1, save_best_only=True, mode='max', save_weights_only=True)\n",
        "\n",
        "history1 = model.fit(x_train,y_train,validation_data= (x_val,y_val), epochs = 100, callbacks=[callbacks, checkpoint])"
      ],
      "metadata": {
        "id": "Dhe-kJWG17xJ",
        "colab": {
          "base_uri": "https://localhost:8080/"
        },
        "outputId": "cacb5a2b-7252-4631-af45-dde0fcec869c"
      },
      "execution_count": 10,
      "outputs": [
        {
          "output_type": "stream",
          "name": "stdout",
          "text": [
            "Epoch 1/100\n",
            "\u001b[1m238/239\u001b[0m \u001b[32m━━━━━━━━━━━━━━━━━━━\u001b[0m\u001b[37m━\u001b[0m \u001b[1m0s\u001b[0m 173ms/step - accuracy: 0.0596 - loss: 3.7662\n",
            "Epoch 1: accuracy improved from -inf to 0.14126, saving model to best_model_acc.weights.h5\n",
            "\u001b[1m239/239\u001b[0m \u001b[32m━━━━━━━━━━━━━━━━━━━━\u001b[0m\u001b[37m\u001b[0m \u001b[1m56s\u001b[0m 223ms/step - accuracy: 0.0603 - loss: 3.7625 - val_accuracy: 0.3315 - val_loss: 2.3291\n",
            "Epoch 2/100\n",
            "\u001b[1m238/239\u001b[0m \u001b[32m━━━━━━━━━━━━━━━━━━━\u001b[0m\u001b[37m━\u001b[0m \u001b[1m0s\u001b[0m 164ms/step - accuracy: 0.3581 - loss: 2.2289\n",
            "Epoch 2: accuracy improved from 0.14126 to 0.37382, saving model to best_model_acc.weights.h5\n",
            "\u001b[1m239/239\u001b[0m \u001b[32m━━━━━━━━━━━━━━━━━━━━\u001b[0m\u001b[37m\u001b[0m \u001b[1m88s\u001b[0m 250ms/step - accuracy: 0.3582 - loss: 2.2282 - val_accuracy: 0.4533 - val_loss: 1.8501\n",
            "Epoch 3/100\n",
            "\u001b[1m238/239\u001b[0m \u001b[32m━━━━━━━━━━━━━━━━━━━\u001b[0m\u001b[37m━\u001b[0m \u001b[1m0s\u001b[0m 167ms/step - accuracy: 0.4885 - loss: 1.7432\n",
            "Epoch 3: accuracy improved from 0.37382 to 0.50866, saving model to best_model_acc.weights.h5\n",
            "\u001b[1m239/239\u001b[0m \u001b[32m━━━━━━━━━━━━━━━━━━━━\u001b[0m\u001b[37m\u001b[0m \u001b[1m73s\u001b[0m 214ms/step - accuracy: 0.4886 - loss: 1.7430 - val_accuracy: 0.6062 - val_loss: 1.4198\n",
            "Epoch 4/100\n",
            "\u001b[1m238/239\u001b[0m \u001b[32m━━━━━━━━━━━━━━━━━━━\u001b[0m\u001b[37m━\u001b[0m \u001b[1m0s\u001b[0m 168ms/step - accuracy: 0.5960 - loss: 1.4230\n",
            "Epoch 4: accuracy improved from 0.50866 to 0.60769, saving model to best_model_acc.weights.h5\n",
            "\u001b[1m239/239\u001b[0m \u001b[32m━━━━━━━━━━━━━━━━━━━━\u001b[0m\u001b[37m\u001b[0m \u001b[1m91s\u001b[0m 254ms/step - accuracy: 0.5961 - loss: 1.4227 - val_accuracy: 0.6747 - val_loss: 1.1933\n",
            "Epoch 5/100\n",
            "\u001b[1m238/239\u001b[0m \u001b[32m━━━━━━━━━━━━━━━━━━━\u001b[0m\u001b[37m━\u001b[0m \u001b[1m0s\u001b[0m 165ms/step - accuracy: 0.6778 - loss: 1.1322\n",
            "Epoch 5: accuracy improved from 0.60769 to 0.67353, saving model to best_model_acc.weights.h5\n",
            "\u001b[1m239/239\u001b[0m \u001b[32m━━━━━━━━━━━━━━━━━━━━\u001b[0m\u001b[37m\u001b[0m \u001b[1m50s\u001b[0m 209ms/step - accuracy: 0.6777 - loss: 1.1322 - val_accuracy: 0.7442 - val_loss: 0.9239\n",
            "Epoch 6/100\n",
            "\u001b[1m238/239\u001b[0m \u001b[32m━━━━━━━━━━━━━━━━━━━\u001b[0m\u001b[37m━\u001b[0m \u001b[1m0s\u001b[0m 164ms/step - accuracy: 0.7455 - loss: 0.9067\n",
            "Epoch 6: accuracy improved from 0.67353 to 0.74265, saving model to best_model_acc.weights.h5\n",
            "\u001b[1m239/239\u001b[0m \u001b[32m━━━━━━━━━━━━━━━━━━━━\u001b[0m\u001b[37m\u001b[0m \u001b[1m92s\u001b[0m 250ms/step - accuracy: 0.7455 - loss: 0.9067 - val_accuracy: 0.8054 - val_loss: 0.6916\n",
            "Epoch 7/100\n",
            "\u001b[1m238/239\u001b[0m \u001b[32m━━━━━━━━━━━━━━━━━━━\u001b[0m\u001b[37m━\u001b[0m \u001b[1m0s\u001b[0m 163ms/step - accuracy: 0.7990 - loss: 0.7087\n",
            "Epoch 7: accuracy improved from 0.74265 to 0.78856, saving model to best_model_acc.weights.h5\n",
            "\u001b[1m239/239\u001b[0m \u001b[32m━━━━━━━━━━━━━━━━━━━━\u001b[0m\u001b[37m\u001b[0m \u001b[1m49s\u001b[0m 204ms/step - accuracy: 0.7989 - loss: 0.7089 - val_accuracy: 0.8181 - val_loss: 0.6426\n",
            "Epoch 8/100\n",
            "\u001b[1m238/239\u001b[0m \u001b[32m━━━━━━━━━━━━━━━━━━━\u001b[0m\u001b[37m━\u001b[0m \u001b[1m0s\u001b[0m 164ms/step - accuracy: 0.8235 - loss: 0.5780\n",
            "Epoch 8: accuracy improved from 0.78856 to 0.81361, saving model to best_model_acc.weights.h5\n",
            "\u001b[1m239/239\u001b[0m \u001b[32m━━━━━━━━━━━━━━━━━━━━\u001b[0m\u001b[37m\u001b[0m \u001b[1m83s\u001b[0m 209ms/step - accuracy: 0.8235 - loss: 0.5783 - val_accuracy: 0.8652 - val_loss: 0.4890\n",
            "Epoch 9/100\n",
            "\u001b[1m238/239\u001b[0m \u001b[32m━━━━━━━━━━━━━━━━━━━\u001b[0m\u001b[37m━\u001b[0m \u001b[1m0s\u001b[0m 164ms/step - accuracy: 0.8568 - loss: 0.4961\n",
            "Epoch 9: accuracy improved from 0.81361 to 0.85913, saving model to best_model_acc.weights.h5\n",
            "\u001b[1m239/239\u001b[0m \u001b[32m━━━━━━━━━━━━━━━━━━━━\u001b[0m\u001b[37m\u001b[0m \u001b[1m80s\u001b[0m 203ms/step - accuracy: 0.8568 - loss: 0.4960 - val_accuracy: 0.8987 - val_loss: 0.3630\n",
            "Epoch 10/100\n",
            "\u001b[1m238/239\u001b[0m \u001b[32m━━━━━━━━━━━━━━━━━━━\u001b[0m\u001b[37m━\u001b[0m \u001b[1m0s\u001b[0m 164ms/step - accuracy: 0.8987 - loss: 0.3609\n",
            "Epoch 10: accuracy improved from 0.85913 to 0.89323, saving model to best_model_acc.weights.h5\n",
            "\u001b[1m239/239\u001b[0m \u001b[32m━━━━━━━━━━━━━━━━━━━━\u001b[0m\u001b[37m\u001b[0m \u001b[1m83s\u001b[0m 209ms/step - accuracy: 0.8987 - loss: 0.3610 - val_accuracy: 0.9265 - val_loss: 0.2650\n",
            "Epoch 11/100\n",
            "\u001b[1m239/239\u001b[0m \u001b[32m━━━━━━━━━━━━━━━━━━━━\u001b[0m\u001b[37m\u001b[0m \u001b[1m0s\u001b[0m 163ms/step - accuracy: 0.9061 - loss: 0.3219\n",
            "Epoch 11: accuracy improved from 0.89323 to 0.90582, saving model to best_model_acc.weights.h5\n",
            "\u001b[1m239/239\u001b[0m \u001b[32m━━━━━━━━━━━━━━━━━━━━\u001b[0m\u001b[37m\u001b[0m \u001b[1m50s\u001b[0m 208ms/step - accuracy: 0.9061 - loss: 0.3219 - val_accuracy: 0.9483 - val_loss: 0.1876\n",
            "Epoch 12/100\n",
            "\u001b[1m239/239\u001b[0m \u001b[32m━━━━━━━━━━━━━━━━━━━━\u001b[0m\u001b[37m\u001b[0m \u001b[1m0s\u001b[0m 160ms/step - accuracy: 0.9216 - loss: 0.2565\n",
            "Epoch 12: accuracy improved from 0.90582 to 0.91828, saving model to best_model_acc.weights.h5\n",
            "\u001b[1m239/239\u001b[0m \u001b[32m━━━━━━━━━━━━━━━━━━━━\u001b[0m\u001b[37m\u001b[0m \u001b[1m48s\u001b[0m 203ms/step - accuracy: 0.9215 - loss: 0.2565 - val_accuracy: 0.9554 - val_loss: 0.1750\n",
            "Epoch 13/100\n",
            "\u001b[1m238/239\u001b[0m \u001b[32m━━━━━━━━━━━━━━━━━━━\u001b[0m\u001b[37m━\u001b[0m \u001b[1m0s\u001b[0m 162ms/step - accuracy: 0.9538 - loss: 0.1744\n",
            "Epoch 13: accuracy improved from 0.91828 to 0.94701, saving model to best_model_acc.weights.h5\n",
            "\u001b[1m239/239\u001b[0m \u001b[32m━━━━━━━━━━━━━━━━━━━━\u001b[0m\u001b[37m\u001b[0m \u001b[1m83s\u001b[0m 208ms/step - accuracy: 0.9537 - loss: 0.1745 - val_accuracy: 0.9702 - val_loss: 0.1207\n",
            "Epoch 14/100\n",
            "\u001b[1m239/239\u001b[0m \u001b[32m━━━━━━━━━━━━━━━━━━━━\u001b[0m\u001b[37m\u001b[0m \u001b[1m0s\u001b[0m 159ms/step - accuracy: 0.9569 - loss: 0.1651\n",
            "Reached 95% training accuracy and 95% validation accuracy, so cancelling training!\n",
            "\n",
            "Epoch 14: accuracy improved from 0.94701 to 0.95344, saving model to best_model_acc.weights.h5\n",
            "\u001b[1m239/239\u001b[0m \u001b[32m━━━━━━━━━━━━━━━━━━━━\u001b[0m\u001b[37m\u001b[0m \u001b[1m80s\u001b[0m 202ms/step - accuracy: 0.9569 - loss: 0.1651 - val_accuracy: 0.9578 - val_loss: 0.1485\n"
          ]
        }
      ]
    },
    {
      "cell_type": "markdown",
      "metadata": {
        "id": "XctzCfzbYCBK"
      },
      "source": [
        "## Evaluasi dan Visualisasi"
      ]
    },
    {
      "cell_type": "code",
      "source": [
        "def Train_Val_Plot(acc,val_acc,loss,val_loss):\n",
        "\n",
        "    fig, (ax1, ax2) = plt.subplots(1,2, figsize= (15,10))\n",
        "    fig.suptitle(\" MODEL'S METRICS VISUALIZATION \")\n",
        "\n",
        "    ax1.plot(range(1, len(acc) + 1), acc)\n",
        "    ax1.plot(range(1, len(val_acc) + 1), val_acc)\n",
        "    ax1.set_title('History of Accuracy')\n",
        "    ax1.set_xlabel('Epochs')\n",
        "    ax1.set_ylabel('Accuracy')\n",
        "    ax1.legend(['training', 'validation'])\n",
        "\n",
        "\n",
        "    ax2.plot(range(1, len(loss) + 1), loss)\n",
        "    ax2.plot(range(1, len(val_loss) + 1), val_loss)\n",
        "    ax2.set_title('History of Loss')\n",
        "    ax2.set_xlabel('Epochs')\n",
        "    ax2.set_ylabel('Loss')\n",
        "    ax2.legend(['training', 'validation'])\n",
        "    plt.show()\n",
        "\n",
        "\n",
        "Train_Val_Plot(history1.history['accuracy'],history1.history['val_accuracy'],\n",
        "               history1.history['loss'],history1.history['val_loss'])"
      ],
      "metadata": {
        "colab": {
          "base_uri": "https://localhost:8080/",
          "height": 859
        },
        "id": "YP6ORkCp_G6d",
        "outputId": "d2f74ffc-6128-4322-d201-1da6408c924f"
      },
      "execution_count": 11,
      "outputs": [
        {
          "output_type": "display_data",
          "data": {
            "text/plain": [
              "<Figure size 1500x1000 with 2 Axes>"
            ],
            "image/png": "[encoded data removed]"
          },
          "metadata": {}
        }
      ]
    },
    {
      "cell_type": "code",
      "execution_count": 13,
      "metadata": {
        "id": "EKk-ScZWYCBK",
        "colab": {
          "base_uri": "https://localhost:8080/"
        },
        "outputId": "93977369-0405-4b1a-9b6c-b43fe2520e14"
      },
      "outputs": [
        {
          "output_type": "stream",
          "name": "stdout",
          "text": [
            "\u001b[1m239/239\u001b[0m \u001b[32m━━━━━━━━━━━━━━━━━━━━\u001b[0m\u001b[37m\u001b[0m \u001b[1m13s\u001b[0m 55ms/step - accuracy: 0.9596 - loss: 0.1408\n"
          ]
        },
        {
          "output_type": "execute_result",
          "data": {
            "text/plain": [
              "[0.1484757512807846, 0.9577649235725403]"
            ]
          },
          "metadata": {},
          "execution_count": 13
        }
      ],
      "source": [
        "model.evaluate(x_test,y_test)"
      ]
    },
    {
      "cell_type": "markdown",
      "metadata": {
        "id": "y_fIsUogYFSk"
      },
      "source": [
        "## Konversi Model"
      ]
    },
    {
      "cell_type": "markdown",
      "source": [
        "### Model Keras H5"
      ],
      "metadata": {
        "id": "m1B4uxWrICTs"
      }
    },
    {
      "cell_type": "code",
      "source": [
        "# Menyimpan model dalam format .keras\n",
        "model.save('Cards_Image_Classification.h5')"
      ],
      "metadata": {
        "colab": {
          "base_uri": "https://localhost:8080/"
        },
        "id": "aRDg0mehH3k7",
        "outputId": "3ad44e85-9821-4046-9b7d-633ef69251e3"
      },
      "execution_count": 15,
      "outputs": [
        {
          "output_type": "stream",
          "name": "stderr",
          "text": [
            "WARNING:absl:You are saving your model as an HDF5 file via `model.save()` or `keras.saving.save_model(model)`. This file format is considered legacy. We recommend using instead the native Keras format, e.g. `model.save('my_model.keras')` or `keras.saving.save_model(model, 'my_model.keras')`. \n"
          ]
        }
      ]
    },
    {
      "cell_type": "code",
      "source": [
        "import os\n",
        "\n",
        "# Menentukan path tujuan untuk menyimpan model\n",
        "target_dir = '/content/drive/MyDrive/Cards_Image_Classification'\n",
        "\n",
        "# Membuat direktori tujuan jika belum ada\n",
        "os.makedirs(target_dir, exist_ok=True)\n",
        "\n",
        "# Menyimpan model dengan path lengkap\n",
        "model_path = os.path.join(target_dir, 'Cards_Image_Classification.h5')\n",
        "model.save(model_path)"
      ],
      "metadata": {
        "colab": {
          "base_uri": "https://localhost:8080/"
        },
        "id": "y2wL6ENFIBpk",
        "outputId": "6a00954c-520f-4e35-a426-8b59fc557db9"
      },
      "execution_count": 16,
      "outputs": [
        {
          "output_type": "stream",
          "name": "stderr",
          "text": [
            "WARNING:absl:You are saving your model as an HDF5 file via `model.save()` or `keras.saving.save_model(model)`. This file format is considered legacy. We recommend using instead the native Keras format, e.g. `model.save('my_model.keras')` or `keras.saving.save_model(model, 'my_model.keras')`. \n"
          ]
        }
      ]
    },
    {
      "cell_type": "code",
      "source": [
        "import keras.saving\n",
        "\n",
        "# Menyimpan model dalam format .keras\n",
        "keras.saving.save_model(model, 'Cards_Image_Classification.keras')"
      ],
      "metadata": {
        "id": "_Qt_XNtcIM1_"
      },
      "execution_count": 17,
      "outputs": []
    },
    {
      "cell_type": "code",
      "source": [
        "import os\n",
        "\n",
        "# Menentukan path tujuan untuk menyimpan model\n",
        "target_dir = '/content/drive/MyDrive/Cards_Image_Classification/'\n",
        "\n",
        "# Membuat direktori tujuan jika belum ada\n",
        "os.makedirs(target_dir, exist_ok=True)\n",
        "\n",
        "# Menyimpan model dengan path lengkap\n",
        "model_path = os.path.join(target_dir, 'Cards_Image_Classification.keras')\n",
        "model.save(model_path)"
      ],
      "metadata": {
        "id": "1njItKN_IRgZ"
      },
      "execution_count": 18,
      "outputs": []
    },
    {
      "cell_type": "markdown",
      "source": [
        "### Model TensorFlow.js"
      ],
      "metadata": {
        "id": "rSCuIAe4Ib8A"
      }
    },
    {
      "cell_type": "code",
      "execution_count": 19,
      "metadata": {
        "id": "hZvGBpYoYFSl",
        "colab": {
          "base_uri": "https://localhost:8080/"
        },
        "outputId": "f06b26b5-368c-472c-92ee-d972520fc5d8"
      },
      "outputs": [
        {
          "output_type": "stream",
          "name": "stdout",
          "text": [
            "2025-06-21 01:36:47.457072: E external/local_xla/xla/stream_executor/cuda/cuda_fft.cc:477] Unable to register cuFFT factory: Attempting to register factory for plugin cuFFT when one has already been registered\n",
            "WARNING: All log messages before absl::InitializeLog() is called are written to STDERR\n",
            "E0000 00:00:1750469807.482453   25619 cuda_dnn.cc:8310] Unable to register cuDNN factory: Attempting to register factory for plugin cuDNN when one has already been registered\n",
            "E0000 00:00:1750469807.489647   25619 cuda_blas.cc:1418] Unable to register cuBLAS factory: Attempting to register factory for plugin cuBLAS when one has already been registered\n",
            "\u001b[32m🌲 Try \u001b[0m\u001b[34mhttps://ydf.readthedocs.io\u001b[0m\u001b[32m, the successor of TensorFlow Decision Forests with more features and faster training!\u001b[0m\n",
            "failed to lookup keras version from the file,\n",
            "    this is likely a weight only file\n"
          ]
        }
      ],
      "source": [
        "!tensorflowjs_converter --input_format keras \\\n",
        "                       /content/Cards_Image_Classification.h5 \\\n",
        "                       /content/Model_TFJS"
      ]
    },
    {
      "cell_type": "code",
      "source": [
        "import shutil\n",
        "\n",
        "# Path to the folder you want to zip\n",
        "folder_path = './Model_TFJS'\n",
        "output_path = './drive/MyDrive/Cards_Image_Classification/Model_TFJS'\n",
        "\n",
        "# Create a ZIP file with the same name as the folder\n",
        "zip_file = shutil.make_archive(output_path, 'zip', folder_path)\n",
        "\n",
        "print(f'ZIP file created: {zip_file}')"
      ],
      "metadata": {
        "colab": {
          "base_uri": "https://localhost:8080/"
        },
        "id": "ZaIo6PXdHsxQ",
        "outputId": "0b55f3f9-bd4c-48d2-e533-89debf00ff56"
      },
      "execution_count": 20,
      "outputs": [
        {
          "output_type": "stream",
          "name": "stdout",
          "text": [
            "ZIP file created: /content/drive/MyDrive/Cards_Image_Classification/Model_TFJS.zip\n"
          ]
        }
      ]
    },
    {
      "cell_type": "markdown",
      "source": [
        "### Model PB"
      ],
      "metadata": {
        "id": "ZhMowwS2Ij66"
      }
    },
    {
      "cell_type": "code",
      "source": [
        "import tensorflow as tf\n",
        "\n",
        "# Load your Keras model\n",
        "model = tf.keras.models.load_model('/content/Cards_Image_Classification.h5')\n",
        "\n",
        "# Convert and save the model to TensorFlow.js format\n",
        "path = ('/content/Model_PB')\n",
        "tf.saved_model.save(model,path)"
      ],
      "metadata": {
        "colab": {
          "base_uri": "https://localhost:8080/"
        },
        "id": "pfck86d8IlWW",
        "outputId": "0e7e56a0-8805-43d0-c138-c4f344253959"
      },
      "execution_count": 21,
      "outputs": [
        {
          "output_type": "stream",
          "name": "stderr",
          "text": [
            "WARNING:absl:Compiled the loaded model, but the compiled metrics have yet to be built. `model.compile_metrics` will be empty until you train or evaluate the model.\n"
          ]
        }
      ]
    },
    {
      "cell_type": "code",
      "source": [
        "import shutil\n",
        "\n",
        "# Path to the folder you want to zip\n",
        "folder_path = './Model_PB'\n",
        "output_path = './drive/MyDrive/Cards_Image_Classification/Model_PB'\n",
        "\n",
        "# Create a ZIP file with the same name as the folder\n",
        "zip_file = shutil.make_archive(output_path, 'zip', folder_path)\n",
        "\n",
        "print(f'ZIP file created: {zip_file}')"
      ],
      "metadata": {
        "colab": {
          "base_uri": "https://localhost:8080/"
        },
        "id": "jWx30W51IqmX",
        "outputId": "60892496-2a29-48c7-86de-7ece95957b30"
      },
      "execution_count": 22,
      "outputs": [
        {
          "output_type": "stream",
          "name": "stdout",
          "text": [
            "ZIP file created: /content/drive/MyDrive/Cards_Image_Classification/Model_PB.zip\n"
          ]
        }
      ]
    },
    {
      "cell_type": "markdown",
      "source": [
        "### Model TF-Lite"
      ],
      "metadata": {
        "id": "SqVhs3ydJUso"
      }
    },
    {
      "cell_type": "code",
      "source": [
        "# Load model Keras\n",
        "model = tf.keras.models.load_model('Cards_Image_Classification.h5')\n",
        "\n",
        "# Konversi ke TFLite\n",
        "converter = tf.lite.TFLiteConverter.from_keras_model(model)\n",
        "tflite_model = converter.convert()\n",
        "\n",
        "# Simpan sebagai file .tflite\n",
        "with open('/content/Cards_Image_Classification.tflite', 'wb') as f:\n",
        "    f.write(tflite_model)\n",
        "\n",
        "print(\"Model berhasil dikonversi ke .tflite\")"
      ],
      "metadata": {
        "colab": {
          "base_uri": "https://localhost:8080/"
        },
        "id": "kRewLNr7JWyq",
        "outputId": "53ea72eb-8620-4cb3-e9d9-99fabe344bba"
      },
      "execution_count": 23,
      "outputs": [
        {
          "output_type": "stream",
          "name": "stderr",
          "text": [
            "WARNING:absl:Compiled the loaded model, but the compiled metrics have yet to be built. `model.compile_metrics` will be empty until you train or evaluate the model.\n"
          ]
        },
        {
          "output_type": "stream",
          "name": "stdout",
          "text": [
            "Saved artifact at '/tmp/tmpmh6i10u6'. The following endpoints are available:\n",
            "\n",
            "* Endpoint 'serve'\n",
            "  args_0 (POSITIONAL_ONLY): TensorSpec(shape=(None, 70, 70, 3), dtype=tf.float32, name='input_layer')\n",
            "Output Type:\n",
            "  TensorSpec(shape=(None, 53), dtype=tf.float32, name=None)\n",
            "Captures:\n",
            "  135092925640208: TensorSpec(shape=(), dtype=tf.resource, name=None)\n",
            "  135092925636368: TensorSpec(shape=(), dtype=tf.resource, name=None)\n",
            "  135092925637328: TensorSpec(shape=(), dtype=tf.resource, name=None)\n",
            "  135092925639056: TensorSpec(shape=(), dtype=tf.resource, name=None)\n",
            "  135092925639248: TensorSpec(shape=(), dtype=tf.resource, name=None)\n",
            "  135092925639632: TensorSpec(shape=(), dtype=tf.resource, name=None)\n",
            "  135092925640592: TensorSpec(shape=(), dtype=tf.resource, name=None)\n",
            "  135092925637136: TensorSpec(shape=(), dtype=tf.resource, name=None)\n",
            "  135092925638288: TensorSpec(shape=(), dtype=tf.resource, name=None)\n",
            "  135092925635792: TensorSpec(shape=(), dtype=tf.resource, name=None)\n",
            "  135092925638864: TensorSpec(shape=(), dtype=tf.resource, name=None)\n",
            "  135092925634832: TensorSpec(shape=(), dtype=tf.resource, name=None)\n",
            "Model berhasil dikonversi ke .tflite\n"
          ]
        }
      ]
    },
    {
      "cell_type": "code",
      "source": [
        "import shutil\n",
        "\n",
        "# Path ke file .tflite\n",
        "file_path = '/content/Cards_Image_Classification.tflite'\n",
        "zip_path = '/content/Cards_Image_Classification_tflite'\n",
        "\n",
        "# Buat zip\n",
        "zip_file = shutil.make_archive(zip_path, 'zip', root_dir='/content', base_dir='Cards_Image_Classification.tflite')\n",
        "\n",
        "print(f'ZIP file created: {zip_file}')"
      ],
      "metadata": {
        "colab": {
          "base_uri": "https://localhost:8080/"
        },
        "id": "q3U7IAOSJs6t",
        "outputId": "69e52c74-69f6-482d-e060-a17894c5ed87"
      },
      "execution_count": 24,
      "outputs": [
        {
          "output_type": "stream",
          "name": "stdout",
          "text": [
            "ZIP file created: /content/Cards_Image_Classification_tflite.zip\n"
          ]
        }
      ]
    }
  ]
}